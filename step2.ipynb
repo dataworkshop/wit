{
 "cells": [
  {
   "cell_type": "code",
   "execution_count": 1,
   "metadata": {},
   "outputs": [
    {
     "name": "stderr",
     "output_type": "stream",
     "text": [
      "/Users/vova/miniconda3/lib/python3.6/site-packages/sklearn/cross_validation.py:41: DeprecationWarning: This module was deprecated in version 0.18 in favor of the model_selection module into which all the refactored classes and functions are moved. Also note that the interface of the new CV iterators are different from that of this module. This module will be removed in 0.20.\n",
      "  \"This module will be removed in 0.20.\", DeprecationWarning)\n"
     ]
    }
   ],
   "source": [
    "import pandas as pd\n",
    "import numpy as np\n",
    "import xgboost as xgb\n",
    "\n",
    "from sklearn import preprocessing\n",
    "from sklearn.cross_validation import KFold\n",
    "\n",
    "from sklearn.metrics import mean_absolute_error\n",
    "\n",
    "%matplotlib inline"
   ]
  },
  {
   "cell_type": "code",
   "execution_count": 2,
   "metadata": {
    "collapsed": true
   },
   "outputs": [],
   "source": [
    "train = pd.read_csv('train.csv')"
   ]
  },
  {
   "cell_type": "code",
   "execution_count": 3,
   "metadata": {
    "collapsed": true
   },
   "outputs": [],
   "source": [
    "cat_feats = train.select_dtypes(include=[\"object\"]).columns\n",
    "\n",
    "for feat in cat_feats:\n",
    "    train[feat + '_id'] = preprocessing.LabelEncoder().fit_transform(train[feat].values)"
   ]
  },
  {
   "cell_type": "code",
   "execution_count": 4,
   "metadata": {
    "collapsed": true
   },
   "outputs": [],
   "source": [
    "num_feats = [feat for feat in train.columns if 'cont' in feat]\n",
    "id_feats  = [feat for feat in train.columns if '_id' in feat]\n",
    "\n",
    "X = train[num_feats + id_feats].values\n",
    "y = train['loss'].values"
   ]
  },
  {
   "cell_type": "code",
   "execution_count": 5,
   "metadata": {
    "collapsed": true
   },
   "outputs": [],
   "source": [
    "model = xgb.XGBRegressor(\n",
    "    max_depth = 12,\n",
    "    learning_rate = 0.2,\n",
    "    n_estimators = 20,\n",
    "    silent = 0,\n",
    "    objective = 'reg:linear',\n",
    "    nthread = -1,\n",
    "    # gamma = 5290.,\n",
    "    # min_child_weight = 4.2922,\n",
    "    subsample = 0.7,\n",
    "    colsample_bytree = 0.6,\n",
    "    seed = 2017\n",
    ")"
   ]
  },
  {
   "cell_type": "code",
   "execution_count": 6,
   "metadata": {},
   "outputs": [
    {
     "name": "stdout",
     "output_type": "stream",
     "text": [
      "[0]\tvalidation_0-mae:2444.05\tvalidation_1-mae:2456.15\n",
      "[1]\tvalidation_0-mae:1994.57\tvalidation_1-mae:2015.93\n",
      "[2]\tvalidation_0-mae:1684.08\tvalidation_1-mae:1718.83\n",
      "[3]\tvalidation_0-mae:1482.49\tvalidation_1-mae:1534.73\n",
      "[4]\tvalidation_0-mae:1343.5\tvalidation_1-mae:1414.39\n",
      "[5]\tvalidation_0-mae:1245.19\tvalidation_1-mae:1334.26\n",
      "[6]\tvalidation_0-mae:1179.91\tvalidation_1-mae:1285.21\n",
      "[7]\tvalidation_0-mae:1140.75\tvalidation_1-mae:1260.76\n",
      "[8]\tvalidation_0-mae:1107.5\tvalidation_1-mae:1243.2\n",
      "[9]\tvalidation_0-mae:1084.5\tvalidation_1-mae:1233.41\n",
      "[10]\tvalidation_0-mae:1068.61\tvalidation_1-mae:1229.43\n",
      "[11]\tvalidation_0-mae:1055.57\tvalidation_1-mae:1226.41\n",
      "[12]\tvalidation_0-mae:1043.66\tvalidation_1-mae:1224.81\n",
      "[13]\tvalidation_0-mae:1035.79\tvalidation_1-mae:1224.13\n",
      "[14]\tvalidation_0-mae:1025.62\tvalidation_1-mae:1223.09\n",
      "[15]\tvalidation_0-mae:1017.92\tvalidation_1-mae:1223.85\n",
      "[16]\tvalidation_0-mae:1009.26\tvalidation_1-mae:1223.29\n",
      "[17]\tvalidation_0-mae:1002.76\tvalidation_1-mae:1223.5\n",
      "[18]\tvalidation_0-mae:995.24\tvalidation_1-mae:1224.7\n",
      "[19]\tvalidation_0-mae:986.856\tvalidation_1-mae:1224.64\n",
      "Fold1, score=1224.6395703937856\n",
      "[0]\tvalidation_0-mae:2453.56\tvalidation_1-mae:2425.08\n",
      "[1]\tvalidation_0-mae:2004.26\tvalidation_1-mae:1984.88\n",
      "[2]\tvalidation_0-mae:1692.35\tvalidation_1-mae:1689.3\n",
      "[3]\tvalidation_0-mae:1488.66\tvalidation_1-mae:1506.92\n",
      "[4]\tvalidation_0-mae:1349.73\tvalidation_1-mae:1389.62\n",
      "[5]\tvalidation_0-mae:1251.43\tvalidation_1-mae:1311.95\n",
      "[6]\tvalidation_0-mae:1185.38\tvalidation_1-mae:1267\n",
      "[7]\tvalidation_0-mae:1144.85\tvalidation_1-mae:1243.97\n",
      "[8]\tvalidation_0-mae:1110.88\tvalidation_1-mae:1229.33\n",
      "[9]\tvalidation_0-mae:1088.81\tvalidation_1-mae:1221.62\n",
      "[10]\tvalidation_0-mae:1072.6\tvalidation_1-mae:1218.26\n",
      "[11]\tvalidation_0-mae:1057.97\tvalidation_1-mae:1216.61\n",
      "[12]\tvalidation_0-mae:1043.78\tvalidation_1-mae:1216.23\n",
      "[13]\tvalidation_0-mae:1033.67\tvalidation_1-mae:1217.41\n",
      "[14]\tvalidation_0-mae:1022.72\tvalidation_1-mae:1217.23\n",
      "[15]\tvalidation_0-mae:1016.94\tvalidation_1-mae:1218.68\n",
      "[16]\tvalidation_0-mae:1007.92\tvalidation_1-mae:1218.5\n",
      "[17]\tvalidation_0-mae:998.984\tvalidation_1-mae:1219.28\n",
      "[18]\tvalidation_0-mae:991.256\tvalidation_1-mae:1219.75\n",
      "[19]\tvalidation_0-mae:981.844\tvalidation_1-mae:1220.5\n",
      "Fold2, score=1220.4979995042008\n",
      "[0]\tvalidation_0-mae:2439.21\tvalidation_1-mae:2465.56\n",
      "[1]\tvalidation_0-mae:1995.17\tvalidation_1-mae:2028.25\n",
      "[2]\tvalidation_0-mae:1680.22\tvalidation_1-mae:1726.21\n",
      "[3]\tvalidation_0-mae:1475.74\tvalidation_1-mae:1534.73\n",
      "[4]\tvalidation_0-mae:1337.3\tvalidation_1-mae:1412.64\n",
      "[5]\tvalidation_0-mae:1245.31\tvalidation_1-mae:1336.67\n",
      "[6]\tvalidation_0-mae:1185.58\tvalidation_1-mae:1293.69\n",
      "[7]\tvalidation_0-mae:1139.41\tvalidation_1-mae:1263.14\n",
      "[8]\tvalidation_0-mae:1107.25\tvalidation_1-mae:1246.86\n",
      "[9]\tvalidation_0-mae:1086.66\tvalidation_1-mae:1238.68\n",
      "[10]\tvalidation_0-mae:1065.25\tvalidation_1-mae:1231.18\n",
      "[11]\tvalidation_0-mae:1046.76\tvalidation_1-mae:1226.79\n",
      "[12]\tvalidation_0-mae:1036.04\tvalidation_1-mae:1225.75\n",
      "[13]\tvalidation_0-mae:1026.93\tvalidation_1-mae:1225.76\n",
      "[14]\tvalidation_0-mae:1015.18\tvalidation_1-mae:1224.86\n",
      "[15]\tvalidation_0-mae:1008.31\tvalidation_1-mae:1224.83\n",
      "[16]\tvalidation_0-mae:997.967\tvalidation_1-mae:1225.35\n",
      "[17]\tvalidation_0-mae:990.724\tvalidation_1-mae:1224.96\n",
      "[18]\tvalidation_0-mae:984.733\tvalidation_1-mae:1224.75\n",
      "[19]\tvalidation_0-mae:980.706\tvalidation_1-mae:1224.9\n",
      "Fold3, score=1224.9009871669548\n"
     ]
    }
   ],
   "source": [
    "nfolds = 3\n",
    "folds = KFold(len(y), n_folds=nfolds, shuffle = True, random_state = 2017)\n",
    "\n",
    "\n",
    "for num_iter, (train_index, test_index) in enumerate(folds):\n",
    "    X_train, y_train = X[train_index], y[train_index]\n",
    "    X_test, y_test   = X[test_index], y[test_index]\n",
    "    \n",
    "    model.fit(X_train, y_train,\n",
    "       eval_metric='mae',\n",
    "       eval_set=[(X[train_index], y[train_index]), (X[test_index], y[test_index])],\n",
    "       verbose=True)\n",
    "    \n",
    "    y_pred = model.predict(X_test)\n",
    "    y_pred[y_pred<0] = 0\n",
    "    \n",
    "    score = mean_absolute_error(y_test, y_pred)\n",
    "    print(\"Fold{0}, score={1}\".format(num_iter+1, score))"
   ]
  },
  {
   "cell_type": "markdown",
   "metadata": {},
   "source": [
    "## Task\n",
    "\n",
    "One cell above there's a model wich use y like a target variable.\n",
    "Modeify the code in order to use transformed targert variable by logarithm...\n",
    "\n",
    "\n",
    "some TIPS:\n",
    "1. y_log_train = np.log(y_train)\n",
    "2. model.fit(X_train, y_log_train, ...\n",
    "3. y_log_pred = model.predict(X_test)\n",
    "4. y_pred = np.exp(y_log_pred)\n"
   ]
  },
  {
   "cell_type": "code",
   "execution_count": null,
   "metadata": {
    "collapsed": true
   },
   "outputs": [],
   "source": []
  }
 ],
 "metadata": {
  "kernelspec": {
   "display_name": "Python 3",
   "language": "python",
   "name": "python3"
  },
  "language_info": {
   "codemirror_mode": {
    "name": "ipython",
    "version": 3
   },
   "file_extension": ".py",
   "mimetype": "text/x-python",
   "name": "python",
   "nbconvert_exporter": "python",
   "pygments_lexer": "ipython3",
   "version": "3.6.1"
  }
 },
 "nbformat": 4,
 "nbformat_minor": 2
}
